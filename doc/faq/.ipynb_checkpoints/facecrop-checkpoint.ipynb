{
 "cells": [
  {
   "cell_type": "markdown",
   "metadata": {},
   "source": [
    "## How to crop a face"
   ]
  },
  {
   "cell_type": "code",
   "execution_count": null,
   "metadata": {},
   "outputs": [],
   "source": [
    "CROPPED_IMAGE_HEIGHT = 128\n",
    "CROPPED_IMAGE_WIDTH = 128\n",
    "\n",
    "EYE_CENTER_POS = (40, 64)\n",
    "MOUTH_CENTER_POS = (88, 64)\n",
    "\n",
    "\n",
    "mouth_center=(int((annotations['mouthleft'][0]+annotations['mouthright'][0])/2.0), int((annotations['mouthleft'][1]+annotations['mouthright'][1])/2.0))\n",
    "\n",
    "eye_center=(int((annotations['leye'][0]+annotations['reye'][0])/2.0), int((annotations['leye'][1]+annotations['reye'][1])/2.0))\n",
    "\n",
    "annotations['eye_center'] =eye_center\n",
    "\n",
    "annotations['mouth_center']=mouth_center\n",
    "\n",
    "light_cnn_face_cropper=bob.bio.face.preprocessor.FaceCrop(\n",
    "    cropped_image_size=(CROPPED_IMAGE_HEIGHT, CROPPED_IMAGE_WIDTH),\n",
    "    cropped_positions={'eye_center': EYE_CENTER_POS, 'mouth_center': MOUTH_CENTER_POS})\n",
    "\n",
    "\n",
    "normalized_image = light_cnn_face_cropper.crop_face( image, annotations=annotations)"
   ]
  }
 ],
 "metadata": {
  "jupytext": {
   "formats": "ipynb,py:light",
   "text_representation": {
    "extension": ".py",
    "format_name": "light",
    "format_version": "1.5",
    "jupytext_version": "1.7.1"
   }
  },
  "kernelspec": {
   "display_name": "Python 3",
   "language": "python",
   "name": "python3"
  },
  "language_info": {
   "codemirror_mode": {
    "name": "ipython",
    "version": 3
   },
   "file_extension": ".py",
   "mimetype": "text/x-python",
   "name": "python",
   "nbconvert_exporter": "python",
   "pygments_lexer": "ipython3",
   "version": "3.7.7"
  }
 },
 "nbformat": 4,
 "nbformat_minor": 4
}
