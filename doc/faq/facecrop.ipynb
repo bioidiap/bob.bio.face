{
 "cells": [
  {
   "cell_type": "markdown",
   "metadata": {},
   "source": [
    "## How to crop a face"
   ]
  },
  {
   "cell_type": "code",
   "execution_count": 2,
   "metadata": {
    "lines_to_next_cell": 2
   },
   "outputs": [],
   "source": [
    "import bob.bio.face\n",
    "import bob.io.image\n",
    "\n",
    "# Loading Ada's images\n",
    "image = bob.io.image.load(\"./img/838_ada.jpg\")\n",
    "\n",
    "# Setting Ada's eyes\n",
    "annotations = dict()\n",
    "annotations['reye'] = (265, 203)\n",
    "annotations['leye'] = (278, 294)\n",
    "\n",
    "# Final cropped size\n",
    "cropped_image_size = (224, 224)\n",
    "\n",
    "# Defining where we want the eyes to be located after the crop\n",
    "cropped_positions = {\"leye\": (65, 150), \"reye\": (65, 77)}\n",
    "\n",
    "\n",
    "face_cropper=bob.bio.face.preprocessor.FaceCrop(\n",
    "    cropped_image_size=cropped_image_size,\n",
    "    cropped_positions=cropped_positions,\n",
    "    color_channel=\"rgb\")\n",
    "\n",
    "# Crops always a batch of images\n",
    "cropped_image = face_cropper.transform([image], annotations=[annotations])"
   ]
  },
  {
   "cell_type": "code",
   "execution_count": 3,
   "metadata": {},
   "outputs": [
    {
     "data": {
      "application/vnd.jupyter.widget-view+json": {
       "model_id": "62f5e3a70d3247e4beeed7318775d33a",
       "version_major": 2,
       "version_minor": 0
      },
      "text/plain": [
       "Canvas(toolbar=Toolbar(toolitems=[('Home', 'Reset original view', 'home', 'home'), ('Back', 'Back to previous …"
      ]
     },
     "metadata": {},
     "output_type": "display_data"
    }
   ],
   "source": [
    "%matplotlib widget\n",
    "import matplotlib.pyplot as plt\n",
    "\n",
    "figure = plt.figure()\n",
    "plt.subplot(121)\n",
    "bob.io.image.imshow(image)\n",
    "plt.subplot(122)\n",
    "bob.io.image.imshow(cropped_image[0].astype(\"uint8\"))\n",
    "figure.show()"
   ]
  },
  {
   "cell_type": "code",
   "execution_count": null,
   "metadata": {},
   "outputs": [],
   "source": []
  }
 ],
 "metadata": {
  "jupytext": {
   "formats": "ipynb,py:light"
  },
  "kernelspec": {
   "display_name": "Python 3",
   "language": "python",
   "name": "python3"
  },
  "language_info": {
   "codemirror_mode": {
    "name": "ipython",
    "version": 3
   },
   "file_extension": ".py",
   "mimetype": "text/x-python",
   "name": "python",
   "nbconvert_exporter": "python",
   "pygments_lexer": "ipython3",
   "version": "3.7.7"
  }
 },
 "nbformat": 4,
 "nbformat_minor": 4
}
