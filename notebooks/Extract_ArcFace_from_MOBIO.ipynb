{
 "cells": [
  {
   "cell_type": "markdown",
   "id": "b6e2a8e1",
   "metadata": {},
   "source": [
    "# Extracting embedding features from face data\n",
    "In this notebook, we aim to extract embedding features from images using face recogntion extractors.\n",
    "As an example, we use MOBIO dataset, and extract Arcface features from the face images:"
   ]
  },
  {
   "cell_type": "code",
   "execution_count": null,
   "id": "bf16a98d",
   "metadata": {},
   "outputs": [],
   "source": [
    "##### CHANGE YOUR DATABASE HERE\n",
    "from bob.bio.face.config.database.mobio_male import database\n",
    "annotation_type = database.annotation_type\n",
    "fixed_positions = database.fixed_positions\n",
    "memory_demanding = True\n",
    "dask_client = None"
   ]
  },
  {
   "cell_type": "code",
   "execution_count": null,
   "id": "c12159f9",
   "metadata": {},
   "outputs": [],
   "source": [
    "from bob.bio.face.embeddings.mxnet import arcface_insightFace_lresnet100\n",
    "pipeline = arcface_insightFace_lresnet100(annotation_type=annotation_type,\n",
    "                                          fixed_positions=fixed_positions,\n",
    "                                          memory_demanding=memory_demanding)\n",
    "transformer = pipeline.transformer"
   ]
  },
  {
   "cell_type": "code",
   "execution_count": null,
   "id": "e484adde",
   "metadata": {},
   "outputs": [],
   "source": [
    "from bob.pipelines import wrap\n",
    "\n",
    "\n",
    "features_dir = \"features\" #Path to store extracted features\n",
    "# Wrapping with CHECKPOINT and DASK\n",
    "transformer = wrap([\"checkpoint\",\"dask\"],\n",
    "                   transformer,\n",
    "                   features_dir=features_dir)\n",
    "\n",
    "# Printing the setup of the transformer\n",
    "print(transformer)"
   ]
  },
  {
   "cell_type": "markdown",
   "id": "4453026d",
   "metadata": {},
   "source": [
    "As an example, we consider 10 samples from this database and extract features for these samples:"
   ]
  },
  {
   "cell_type": "code",
   "execution_count": null,
   "id": "64874e69",
   "metadata": {},
   "outputs": [],
   "source": [
    "# get 10 samples from database\n",
    "samples = database.all_samples()[:10]"
   ]
  },
  {
   "cell_type": "code",
   "execution_count": null,
   "id": "c7f80d58",
   "metadata": {},
   "outputs": [],
   "source": [
    "# Setting the DASK client\n",
    "# HERE MAKE ABSOLUTELLY SURE THAT YOU DO `SETSHELL grid` \n",
    "# BEFORE STARTING THE NOTEBOOK\n",
    "\n",
    "from dask.distributed import Client\n",
    "from bob.pipelines.distributed.sge import SGEMultipleQueuesCluster\n",
    "\n",
    "cluster = SGEMultipleQueuesCluster(min_jobs=1)\n",
    "dask_client = Client(cluster)"
   ]
  },
  {
   "cell_type": "code",
   "execution_count": null,
   "id": "90db5c62",
   "metadata": {},
   "outputs": [],
   "source": [
    "\n",
    "features = transformer.transform(samples)\n",
    "if dask_client is not None:\n",
    "    features = features.compute(scheduler=dask_client)\n"
   ]
  },
  {
   "cell_type": "markdown",
   "id": "506c206d",
   "metadata": {},
   "source": [
    "In the following cells, we convert the extracted features to `numpy.array` and check the size of features."
   ]
  },
  {
   "cell_type": "code",
   "execution_count": null,
   "id": "f296a00f",
   "metadata": {},
   "outputs": [],
   "source": [
    "import numpy as np\n",
    "from bob.pipelines import SampleBatch\n",
    "\n",
    "np_features = np.array(SampleBatch(features))"
   ]
  },
  {
   "cell_type": "code",
   "execution_count": null,
   "id": "125925bf",
   "metadata": {},
   "outputs": [],
   "source": [
    "np_features"
   ]
  },
  {
   "cell_type": "code",
   "execution_count": null,
   "id": "4d2200f9",
   "metadata": {},
   "outputs": [],
   "source": [
    "# KILL THE SGE WORKERS\n",
    "dask_client.shutdown()"
   ]
  },
  {
   "cell_type": "code",
   "execution_count": null,
   "id": "8cc6ec07",
   "metadata": {},
   "outputs": [],
   "source": []
  }
 ],
 "metadata": {
  "kernelspec": {
   "display_name": "Python 3 (ipykernel)",
   "language": "python",
   "name": "python3"
  },
  "language_info": {
   "codemirror_mode": {
    "name": "ipython",
    "version": 3
   },
   "file_extension": ".py",
   "mimetype": "text/x-python",
   "name": "python",
   "nbconvert_exporter": "python",
   "pygments_lexer": "ipython3",
   "version": "3.8.12"
  }
 },
 "nbformat": 4,
 "nbformat_minor": 5
}
