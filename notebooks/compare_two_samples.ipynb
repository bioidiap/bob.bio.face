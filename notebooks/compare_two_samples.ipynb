{
 "cells": [
  {
   "cell_type": "markdown",
   "metadata": {},
   "source": [
    "# Comparing 2 samples\n",
    "\n",
    "In this example we show how to take a baseline and compare two samples with it"
   ]
  },
  {
   "cell_type": "code",
   "execution_count": null,
   "metadata": {},
   "outputs": [],
   "source": [
    "# Add the path of sample A with sample B\n",
    "SAMPLE_A = \"\"\n",
    "SAMPLE_B = \"\"\n",
    "\n",
    "from bob.pipelines import SampleSet, DelayedSample\n",
    "import bob.io.base\n",
    "import functools\n",
    "\n",
    "# Picking a baseline\n",
    "from bob.bio.face.embeddings.tensorflow import inception_resnet_v2_casia_centerloss_2018\n",
    "\n",
    "# Setting where the eyes are for each sample (here the two samples have the same eyes position)\n",
    "fixed_positions = {\"leye\":(60,123), \"reye\":(60,63)}\n",
    "\n",
    "pipeline = inception_resnet_v2_casia_centerloss_2018(\n",
    "    annotation_type=\"eyes-center\", fixed_positions=fixed_positions\n",
    ")\n",
    "\n",
    "def create_sample(path, key):\n",
    "    return SampleSet(\n",
    "    [DelayedSample(functools.partial(bob.io.base.load, path), key=str(key))],\n",
    "    key=str(key),\n",
    "    biometric_id=str(key),)\n",
    "\n",
    "sample_A = create_sample(SAMPLE_A, 0)\n",
    "sample_B = create_sample(SAMPLE_B, 1)\n",
    "\n",
    "\n",
    "biometric_references = pipeline.create_biometric_reference([sample_A])\n",
    "scores, _ = pipeline.compute_scores([sample_B], biometric_references)\n",
    "\n",
    "# Printing the score from the first sample\n",
    "print(scores[0].samples[0].data)"
   ]
  },
  {
   "cell_type": "markdown",
   "metadata": {},
   "source": [
    "# Extracting embeddings from two samples"
   ]
  },
  {
   "cell_type": "code",
   "execution_count": null,
   "metadata": {},
   "outputs": [],
   "source": [
    "# Add the path of sample A with sample B\n",
    "SAMPLE_A = \"\"\n",
    "SAMPLE_B = \"\"\n",
    "\n",
    "from bob.pipelines import SampleSet, DelayedSample\n",
    "import bob.io.base\n",
    "import functools\n",
    "\n",
    "# Picking a baseline\n",
    "from bob.bio.face.embeddings.tensorflow import inception_resnet_v2_casia_centerloss_2018\n",
    "\n",
    "# Setting where the eyes are for each sample (here the two samples have the same eyes position)\n",
    "fixed_positions = {\"leye\":(60,123), \"reye\":(60,63)}\n",
    "\n",
    "pipeline = inception_resnet_v2_casia_centerloss_2018(\n",
    "    annotation_type=\"eyes-center\", fixed_positions=fixed_positions\n",
    ")\n",
    "transformer = pipeline.transformer\n",
    "\n",
    "def create_sample(path, key):\n",
    "    return SampleSet(\n",
    "    [DelayedSample(functools.partial(bob.io.base.load, path), key=str(key))],\n",
    "    key=str(key),\n",
    "    biometric_id=str(key),)\n",
    "\n",
    "sample_A = create_sample(SAMPLE_A, 0)\n",
    "sample_B = create_sample(SAMPLE_B, 1)\n",
    "\n",
    "\n",
    "transformed_samples = transformer.transform([sample_A, sample_B])\n",
    "\n",
    "print([x.data for x in transformed_samples[0].samples])\n",
    "\n",
    "\n",
    "#biometric_references = pipeline.create_biometric_reference([sample_A])\n",
    "#scores, _ = pipeline.compute_scores([sample_B], biometric_references)\n",
    "\n",
    "# Printing the score from the first sample\n",
    "#print(scores[0].samples[0].data)"
   ]
  },
  {
   "cell_type": "code",
   "execution_count": null,
   "metadata": {},
   "outputs": [],
   "source": []
  }
 ],
 "metadata": {
  "kernelspec": {
   "display_name": "Python 3 (ipykernel)",
   "language": "python",
   "name": "python3"
  },
  "language_info": {
   "codemirror_mode": {
    "name": "ipython",
    "version": 3
   },
   "file_extension": ".py",
   "mimetype": "text/x-python",
   "name": "python",
   "nbconvert_exporter": "python",
   "pygments_lexer": "ipython3",
   "version": "3.8.12"
  }
 },
 "nbformat": 4,
 "nbformat_minor": 4
}
